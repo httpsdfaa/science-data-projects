{
 "cells": [
  {
   "cell_type": "markdown",
   "metadata": {},
   "source": [
    "# FERRAMENTAS"
   ]
  },
  {
   "cell_type": "code",
   "execution_count": 43,
   "metadata": {},
   "outputs": [],
   "source": [
    "import pandas as pd"
   ]
  },
  {
   "cell_type": "code",
   "execution_count": 55,
   "metadata": {},
   "outputs": [],
   "source": [
    "data = pd.read_csv(\"datas/BankChurners-analysis.csv\", sep=\";\")"
   ]
  },
  {
   "cell_type": "markdown",
   "metadata": {},
   "source": [
    "# Exploração dos dados"
   ]
  },
  {
   "cell_type": "code",
   "execution_count": 56,
   "metadata": {},
   "outputs": [
    {
     "data": {
      "text/html": [
       "<div>\n",
       "<style scoped>\n",
       "    .dataframe tbody tr th:only-of-type {\n",
       "        vertical-align: middle;\n",
       "    }\n",
       "\n",
       "    .dataframe tbody tr th {\n",
       "        vertical-align: top;\n",
       "    }\n",
       "\n",
       "    .dataframe thead th {\n",
       "        text-align: right;\n",
       "    }\n",
       "</style>\n",
       "<table border=\"1\" class=\"dataframe\">\n",
       "  <thead>\n",
       "    <tr style=\"text-align: right;\">\n",
       "      <th></th>\n",
       "      <th>CLIENTNUM</th>\n",
       "      <th>Attrition_Flag</th>\n",
       "      <th>Customer_Age</th>\n",
       "      <th>Gender</th>\n",
       "      <th>Dependent_count</th>\n",
       "      <th>Education_Level</th>\n",
       "      <th>Marital_Status</th>\n",
       "      <th>Income_Category</th>\n",
       "      <th>Card_Category</th>\n",
       "      <th>Months_on_book</th>\n",
       "      <th>...</th>\n",
       "      <th>Months_Inactive_12_mon</th>\n",
       "      <th>Contacts_Count_12_mon</th>\n",
       "      <th>Credit_Limit</th>\n",
       "      <th>Total_Revolving_Bal</th>\n",
       "      <th>Avg_Open_To_Buy</th>\n",
       "      <th>Total_Amt_Chng_Q4_Q1</th>\n",
       "      <th>Total_Trans_Amt</th>\n",
       "      <th>Total_Trans_Ct</th>\n",
       "      <th>Total_Ct_Chng_Q4_Q1</th>\n",
       "      <th>Avg_Utilization_Ratio</th>\n",
       "    </tr>\n",
       "  </thead>\n",
       "  <tbody>\n",
       "    <tr>\n",
       "      <th>0</th>\n",
       "      <td>768805383</td>\n",
       "      <td>Existing Customer</td>\n",
       "      <td>45</td>\n",
       "      <td>M</td>\n",
       "      <td>3</td>\n",
       "      <td>High School</td>\n",
       "      <td>Married</td>\n",
       "      <td>$60K - $80K</td>\n",
       "      <td>Blue</td>\n",
       "      <td>39</td>\n",
       "      <td>...</td>\n",
       "      <td>1</td>\n",
       "      <td>3</td>\n",
       "      <td>$12.691,00</td>\n",
       "      <td>$777,00</td>\n",
       "      <td>$11.914,00</td>\n",
       "      <td>1,34%</td>\n",
       "      <td>1144</td>\n",
       "      <td>42</td>\n",
       "      <td>1,63%</td>\n",
       "      <td>0,06%</td>\n",
       "    </tr>\n",
       "    <tr>\n",
       "      <th>1</th>\n",
       "      <td>818770008</td>\n",
       "      <td>Existing Customer</td>\n",
       "      <td>49</td>\n",
       "      <td>F</td>\n",
       "      <td>5</td>\n",
       "      <td>Graduate</td>\n",
       "      <td>Single</td>\n",
       "      <td>Less than $40K</td>\n",
       "      <td>Blue</td>\n",
       "      <td>44</td>\n",
       "      <td>...</td>\n",
       "      <td>1</td>\n",
       "      <td>2</td>\n",
       "      <td>$8.256,00</td>\n",
       "      <td>$864,00</td>\n",
       "      <td>$7.392,00</td>\n",
       "      <td>1,54%</td>\n",
       "      <td>1291</td>\n",
       "      <td>33</td>\n",
       "      <td>3,71%</td>\n",
       "      <td>0,11%</td>\n",
       "    </tr>\n",
       "    <tr>\n",
       "      <th>2</th>\n",
       "      <td>713982108</td>\n",
       "      <td>Existing Customer</td>\n",
       "      <td>51</td>\n",
       "      <td>M</td>\n",
       "      <td>3</td>\n",
       "      <td>Graduate</td>\n",
       "      <td>Married</td>\n",
       "      <td>$80K - $120K</td>\n",
       "      <td>Blue</td>\n",
       "      <td>36</td>\n",
       "      <td>...</td>\n",
       "      <td>1</td>\n",
       "      <td>0</td>\n",
       "      <td>$3.418,00</td>\n",
       "      <td>$-</td>\n",
       "      <td>$3.418,00</td>\n",
       "      <td>2,59%</td>\n",
       "      <td>1887</td>\n",
       "      <td>20</td>\n",
       "      <td>2,33%</td>\n",
       "      <td>0,00%</td>\n",
       "    </tr>\n",
       "    <tr>\n",
       "      <th>3</th>\n",
       "      <td>769911858</td>\n",
       "      <td>Existing Customer</td>\n",
       "      <td>40</td>\n",
       "      <td>F</td>\n",
       "      <td>4</td>\n",
       "      <td>High School</td>\n",
       "      <td>Unknown</td>\n",
       "      <td>Less than $40K</td>\n",
       "      <td>Blue</td>\n",
       "      <td>34</td>\n",
       "      <td>...</td>\n",
       "      <td>4</td>\n",
       "      <td>1</td>\n",
       "      <td>$3.313,00</td>\n",
       "      <td>$2.517,00</td>\n",
       "      <td>$796,00</td>\n",
       "      <td>1,41%</td>\n",
       "      <td>1171</td>\n",
       "      <td>20</td>\n",
       "      <td>2,33%</td>\n",
       "      <td>0,76%</td>\n",
       "    </tr>\n",
       "    <tr>\n",
       "      <th>4</th>\n",
       "      <td>709106358</td>\n",
       "      <td>Existing Customer</td>\n",
       "      <td>40</td>\n",
       "      <td>M</td>\n",
       "      <td>3</td>\n",
       "      <td>Uneducated</td>\n",
       "      <td>Married</td>\n",
       "      <td>$60K - $80K</td>\n",
       "      <td>Blue</td>\n",
       "      <td>21</td>\n",
       "      <td>...</td>\n",
       "      <td>1</td>\n",
       "      <td>0</td>\n",
       "      <td>$4.716,00</td>\n",
       "      <td>$-</td>\n",
       "      <td>$4.716,00</td>\n",
       "      <td>2,18%</td>\n",
       "      <td>816</td>\n",
       "      <td>28</td>\n",
       "      <td>2,50%</td>\n",
       "      <td>0,00%</td>\n",
       "    </tr>\n",
       "  </tbody>\n",
       "</table>\n",
       "<p>5 rows × 21 columns</p>\n",
       "</div>"
      ],
      "text/plain": [
       "   CLIENTNUM     Attrition_Flag  Customer_Age Gender  Dependent_count  \\\n",
       "0  768805383  Existing Customer            45      M                3   \n",
       "1  818770008  Existing Customer            49      F                5   \n",
       "2  713982108  Existing Customer            51      M                3   \n",
       "3  769911858  Existing Customer            40      F                4   \n",
       "4  709106358  Existing Customer            40      M                3   \n",
       "\n",
       "  Education_Level Marital_Status Income_Category Card_Category  \\\n",
       "0     High School        Married     $60K - $80K          Blue   \n",
       "1        Graduate         Single  Less than $40K          Blue   \n",
       "2        Graduate        Married    $80K - $120K          Blue   \n",
       "3     High School        Unknown  Less than $40K          Blue   \n",
       "4      Uneducated        Married     $60K - $80K          Blue   \n",
       "\n",
       "   Months_on_book  ...  Months_Inactive_12_mon  Contacts_Count_12_mon  \\\n",
       "0              39  ...                       1                      3   \n",
       "1              44  ...                       1                      2   \n",
       "2              36  ...                       1                      0   \n",
       "3              34  ...                       4                      1   \n",
       "4              21  ...                       1                      0   \n",
       "\n",
       "    Credit_Limit   Total_Revolving_Bal   Avg_Open_To_Buy   \\\n",
       "0     $12.691,00               $777,00        $11.914,00    \n",
       "1      $8.256,00               $864,00         $7.392,00    \n",
       "2      $3.418,00                  $-           $3.418,00    \n",
       "3      $3.313,00             $2.517,00           $796,00    \n",
       "4      $4.716,00                  $-           $4.716,00    \n",
       "\n",
       "  Total_Amt_Chng_Q4_Q1 Total_Trans_Amt  Total_Trans_Ct  Total_Ct_Chng_Q4_Q1  \\\n",
       "0                1,34%            1144              42                1,63%   \n",
       "1                1,54%            1291              33                3,71%   \n",
       "2                2,59%            1887              20                2,33%   \n",
       "3                1,41%            1171              20                2,33%   \n",
       "4                2,18%             816              28                2,50%   \n",
       "\n",
       "  Avg_Utilization_Ratio  \n",
       "0                 0,06%  \n",
       "1                 0,11%  \n",
       "2                 0,00%  \n",
       "3                 0,76%  \n",
       "4                 0,00%  \n",
       "\n",
       "[5 rows x 21 columns]"
      ]
     },
     "execution_count": 56,
     "metadata": {},
     "output_type": "execute_result"
    }
   ],
   "source": [
    "# verificando como o dataset está se comportando\n",
    "data.head()"
   ]
  },
  {
   "cell_type": "code",
   "execution_count": 57,
   "metadata": {},
   "outputs": [
    {
     "name": "stdout",
     "output_type": "stream",
     "text": [
      "<class 'pandas.core.frame.DataFrame'>\n",
      "RangeIndex: 10127 entries, 0 to 10126\n",
      "Data columns (total 21 columns):\n",
      " #   Column                    Non-Null Count  Dtype \n",
      "---  ------                    --------------  ----- \n",
      " 0   CLIENTNUM                 10127 non-null  int64 \n",
      " 1   Attrition_Flag            10127 non-null  object\n",
      " 2   Customer_Age              10127 non-null  int64 \n",
      " 3   Gender                    10127 non-null  object\n",
      " 4   Dependent_count           10127 non-null  int64 \n",
      " 5   Education_Level           10127 non-null  object\n",
      " 6   Marital_Status            10127 non-null  object\n",
      " 7   Income_Category           10127 non-null  object\n",
      " 8   Card_Category             10127 non-null  object\n",
      " 9   Months_on_book            10127 non-null  int64 \n",
      " 10  Total_Relationship_Count  10127 non-null  int64 \n",
      " 11  Months_Inactive_12_mon    10127 non-null  int64 \n",
      " 12  Contacts_Count_12_mon     10127 non-null  int64 \n",
      " 13   Credit_Limit             10127 non-null  object\n",
      " 14   Total_Revolving_Bal      10127 non-null  object\n",
      " 15   Avg_Open_To_Buy          10127 non-null  object\n",
      " 16  Total_Amt_Chng_Q4_Q1      10127 non-null  object\n",
      " 17  Total_Trans_Amt           10127 non-null  int64 \n",
      " 18  Total_Trans_Ct            10127 non-null  int64 \n",
      " 19  Total_Ct_Chng_Q4_Q1       10127 non-null  object\n",
      " 20  Avg_Utilization_Ratio     10127 non-null  object\n",
      "dtypes: int64(9), object(12)\n",
      "memory usage: 1.6+ MB\n"
     ]
    }
   ],
   "source": [
    "# verficar informações para entender as colunas\n",
    "data.info()"
   ]
  },
  {
   "cell_type": "code",
   "execution_count": 58,
   "metadata": {},
   "outputs": [],
   "source": [
    "# removendo espaços em branco no nome das colunas\n",
    "data = data.rename(columns=lambda x: x.strip())"
   ]
  },
  {
   "cell_type": "code",
   "execution_count": 59,
   "metadata": {},
   "outputs": [
    {
     "name": "stdout",
     "output_type": "stream",
     "text": [
      "<class 'pandas.core.frame.DataFrame'>\n",
      "RangeIndex: 10127 entries, 0 to 10126\n",
      "Data columns (total 21 columns):\n",
      " #   Column                    Non-Null Count  Dtype \n",
      "---  ------                    --------------  ----- \n",
      " 0   CLIENTNUM                 10127 non-null  int64 \n",
      " 1   Attrition_Flag            10127 non-null  object\n",
      " 2   Customer_Age              10127 non-null  int64 \n",
      " 3   Gender                    10127 non-null  object\n",
      " 4   Dependent_count           10127 non-null  int64 \n",
      " 5   Education_Level           10127 non-null  object\n",
      " 6   Marital_Status            10127 non-null  object\n",
      " 7   Income_Category           10127 non-null  object\n",
      " 8   Card_Category             10127 non-null  object\n",
      " 9   Months_on_book            10127 non-null  int64 \n",
      " 10  Total_Relationship_Count  10127 non-null  int64 \n",
      " 11  Months_Inactive_12_mon    10127 non-null  int64 \n",
      " 12  Contacts_Count_12_mon     10127 non-null  int64 \n",
      " 13  Credit_Limit              10127 non-null  object\n",
      " 14  Total_Revolving_Bal       10127 non-null  object\n",
      " 15  Avg_Open_To_Buy           10127 non-null  object\n",
      " 16  Total_Amt_Chng_Q4_Q1      10127 non-null  object\n",
      " 17  Total_Trans_Amt           10127 non-null  int64 \n",
      " 18  Total_Trans_Ct            10127 non-null  int64 \n",
      " 19  Total_Ct_Chng_Q4_Q1       10127 non-null  object\n",
      " 20  Avg_Utilization_Ratio     10127 non-null  object\n",
      "dtypes: int64(9), object(12)\n",
      "memory usage: 1.6+ MB\n"
     ]
    }
   ],
   "source": [
    "# uma verificada se os espaços extras nas variáveis foram retiradas\n",
    "data.info()"
   ]
  },
  {
   "cell_type": "code",
   "execution_count": 60,
   "metadata": {},
   "outputs": [
    {
     "data": {
      "text/plain": [
       "0         $12.691,00 \n",
       "1          $8.256,00 \n",
       "2          $3.418,00 \n",
       "3          $3.313,00 \n",
       "4          $4.716,00 \n",
       "             ...     \n",
       "10122      $4.003,00 \n",
       "10123      $4.277,00 \n",
       "10124      $5.409,00 \n",
       "10125      $5.281,00 \n",
       "10126     $10.388,00 \n",
       "Name: Credit_Limit, Length: 10127, dtype: object"
      ]
     },
     "execution_count": 60,
     "metadata": {},
     "output_type": "execute_result"
    }
   ],
   "source": [
    "# verificando como o dataset se comporta\n",
    "data['Credit_Limit']"
   ]
  },
  {
   "cell_type": "markdown",
   "metadata": {},
   "source": [
    "#### Tranformação dos dados pois existem variáveis que deve estar como float"
   ]
  },
  {
   "cell_type": "code",
   "execution_count": 62,
   "metadata": {},
   "outputs": [
    {
     "data": {
      "text/plain": [
       "0        12691.00\n",
       "1         8256.00\n",
       "2         3418.00\n",
       "3         3313.00\n",
       "4         4716.00\n",
       "           ...   \n",
       "10122     4003.00\n",
       "10123     4277.00\n",
       "10124     5409.00\n",
       "10125     5281.00\n",
       "10126    10388.00\n",
       "Name: Credit_Limit, Length: 10127, dtype: object"
      ]
     },
     "execution_count": 62,
     "metadata": {},
     "output_type": "execute_result"
    }
   ],
   "source": [
    "# limpando a moeda para que fique no formato padrão\n",
    "data['Credit_Limit'] = data['Credit_Limit'].str.replace(' ', '').str.replace('$', '').str.replace('.', '')\n",
    "data['Credit_Limit'] = data['Credit_Limit'].str.replace(',', '.')\n",
    "data['Credit_Limit']"
   ]
  },
  {
   "cell_type": "code",
   "execution_count": 63,
   "metadata": {},
   "outputs": [],
   "source": [
    "# tranformando para float\n",
    "data['Credit_Limit'] = pd.to_numeric(data['Credit_Limit'], errors='raise')"
   ]
  },
  {
   "cell_type": "code",
   "execution_count": 64,
   "metadata": {},
   "outputs": [
    {
     "name": "stdout",
     "output_type": "stream",
     "text": [
      "<class 'pandas.core.frame.DataFrame'>\n",
      "RangeIndex: 10127 entries, 0 to 10126\n",
      "Data columns (total 21 columns):\n",
      " #   Column                    Non-Null Count  Dtype  \n",
      "---  ------                    --------------  -----  \n",
      " 0   CLIENTNUM                 10127 non-null  int64  \n",
      " 1   Attrition_Flag            10127 non-null  object \n",
      " 2   Customer_Age              10127 non-null  int64  \n",
      " 3   Gender                    10127 non-null  object \n",
      " 4   Dependent_count           10127 non-null  int64  \n",
      " 5   Education_Level           10127 non-null  object \n",
      " 6   Marital_Status            10127 non-null  object \n",
      " 7   Income_Category           10127 non-null  object \n",
      " 8   Card_Category             10127 non-null  object \n",
      " 9   Months_on_book            10127 non-null  int64  \n",
      " 10  Total_Relationship_Count  10127 non-null  int64  \n",
      " 11  Months_Inactive_12_mon    10127 non-null  int64  \n",
      " 12  Contacts_Count_12_mon     10127 non-null  int64  \n",
      " 13  Credit_Limit              10127 non-null  float64\n",
      " 14  Total_Revolving_Bal       10127 non-null  object \n",
      " 15  Avg_Open_To_Buy           10127 non-null  object \n",
      " 16  Total_Amt_Chng_Q4_Q1      10127 non-null  object \n",
      " 17  Total_Trans_Amt           10127 non-null  int64  \n",
      " 18  Total_Trans_Ct            10127 non-null  int64  \n",
      " 19  Total_Ct_Chng_Q4_Q1       10127 non-null  object \n",
      " 20  Avg_Utilization_Ratio     10127 non-null  object \n",
      "dtypes: float64(1), int64(9), object(11)\n",
      "memory usage: 1.6+ MB\n"
     ]
    }
   ],
   "source": [
    "# verificando se houve alteração\n",
    "data.info()"
   ]
  },
  {
   "cell_type": "code",
   "execution_count": null,
   "metadata": {},
   "outputs": [],
   "source": []
  }
 ],
 "metadata": {
  "kernelspec": {
   "display_name": "Python 3 (ipykernel)",
   "language": "python",
   "name": "python3"
  },
  "language_info": {
   "codemirror_mode": {
    "name": "ipython",
    "version": 3
   },
   "file_extension": ".py",
   "mimetype": "text/x-python",
   "name": "python",
   "nbconvert_exporter": "python",
   "pygments_lexer": "ipython3",
   "version": "3.11.3"
  }
 },
 "nbformat": 4,
 "nbformat_minor": 2
}
